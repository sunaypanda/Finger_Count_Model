{
 "cells": [
  {
   "cell_type": "code",
   "execution_count": 18,
   "id": "b5ff6310-2134-4556-b7c0-eecf6fc82623",
   "metadata": {},
   "outputs": [],
   "source": [
    "import cv2\n",
    "import numpy as np\n",
    "from sklearn.metrics import pairwise"
   ]
  },
  {
   "cell_type": "code",
   "execution_count": 19,
   "id": "3f2f65e4-2199-441e-aa6f-3eb9d98584f6",
   "metadata": {},
   "outputs": [],
   "source": [
    "background = None\n",
    "acc_weight = 0.5\n",
    "roi_top = 50\n",
    "roi_bottom = 300\n",
    "roi_right = 200\n",
    "roi_left = 500"
   ]
  },
  {
   "cell_type": "code",
   "execution_count": 20,
   "id": "3f5eb7b8-f434-4aa3-9fdf-2642555e65ed",
   "metadata": {},
   "outputs": [],
   "source": [
    "def cal_acc_avg(frame, acc_weight):\n",
    "    global background\n",
    "    if background is None:\n",
    "        background = frame.copy().astype(\"float\")\n",
    "        return None\n",
    "    cv2.accumulateWeighted(frame, background, acc_weight)"
   ]
  },
  {
   "cell_type": "code",
   "execution_count": 21,
   "id": "429fe620-f517-4512-a458-5faeb039aae2",
   "metadata": {},
   "outputs": [],
   "source": [
    "def segment(frame, threshold=25):\n",
    "    global background\n",
    "    diff = cv2.absdiff(background.astype(\"uint8\"), frame)\n",
    "    _, thresh = cv2.threshold(diff, 0, 255, cv2.THRESH_BINARY + cv2.THRESH_OTSU)\n",
    "    contours, _ = cv2.findContours(thresh.copy(), cv2.RETR_EXTERNAL, cv2.CHAIN_APPROX_SIMPLE)\n",
    "    hand_segment = max(contours, key=cv2.contourArea) if contours else None\n",
    "    return thresh, hand_segment"
   ]
  },
  {
   "cell_type": "code",
   "execution_count": 13,
   "id": "1230e817-79fc-4c4c-8377-64b1b2901338",
   "metadata": {},
   "outputs": [],
   "source": [
    "def count_fingers(thresh, hand_segment):\n",
    "    conv_hull = cv2.convexHull(hand_segment)\n",
    "    top, bottom, left, right = tuple(conv_hull[conv_hull[:, :, 1].argmin()][0]), \\\n",
    "                              tuple(conv_hull[conv_hull[:, :, 1].argmax()][0]), \\\n",
    "                              tuple(conv_hull[conv_hull[:, :, 0].argmin()][0]), \\\n",
    "                              tuple(conv_hull[conv_hull[:, :, 0].argmax()][0])\n",
    "    cX, cY = (left[0] + right[0]) // 2, (top[1] + bottom[1]) // 2\n",
    "    distance = pairwise.euclidean_distances([(cX, cY)], Y=[left, right, top, bottom])[0]\n",
    "    max_distance = distance.max()\n",
    "    radius = int(0.8 * max_distance)\n",
    "    circumference = (2 * np.pi * radius)\n",
    "    circular_mask = np.zeros(thresh.shape[:2], dtype=\"uint8\")\n",
    "    cv2.circle(circular_mask, (cX, cY), radius, 255, 10)\n",
    "    circular_roi = cv2.bitwise_and(thresh, thresh, mask=circular_mask)\n",
    "    contours, _ = cv2.findContours(circular_roi.copy(), cv2.RETR_EXTERNAL, cv2.CHAIN_APPROX_NONE)\n",
    "    count = 0\n",
    "    for contour in contours:\n",
    "        x, y, w, h = cv2.boundingRect(contour)\n",
    "        out_of_wrist = ((cY + (cY * 0.25)) > (y + h))\n",
    "        limit_points = ((circumference * 0.25) > contour.shape[0])\n",
    "        if out_of_wrist and limit_points:\n",
    "            count += 1\n",
    "    return count"
   ]
  },
  {
   "cell_type": "code",
   "execution_count": 27,
   "id": "033a4de7-b7cb-4ac2-862f-3150fbd7bce8",
   "metadata": {},
   "outputs": [],
   "source": [
    "import cv2\n",
    "\n",
    "cam = cv2.VideoCapture(0)\n",
    "\n",
    "num_frame = 0\n",
    "hand = None\n",
    "\n",
    "while True:\n",
    "    ret, frame = cam.read()\n",
    "    frame = cv2.flip(frame, 1)\n",
    "    frame_copy = frame.copy()\n",
    "\n",
    "    roi = frame[roi_top:roi_bottom, roi_right:roi_left]\n",
    "    \n",
    "    gray = cv2.cvtColor(roi, cv2.COLOR_BGR2GRAY)\n",
    "    gray = cv2.GaussianBlur(gray, (7, 7), 0)\n",
    "\n",
    "    if num_frame < 60:\n",
    "        cal_acc_avg(gray, acc_weight)\n",
    "        if num_frame <= 59:\n",
    "            cv2.putText(frame_copy, \"Calculating Background Avg...\", (200, 400),\n",
    "                        cv2.FONT_HERSHEY_SIMPLEX, 1, (0, 0, 255), 2)\n",
    "            cv2.imshow(\"Finger Count : \", frame_copy)\n",
    "    else:\n",
    "        hand = segment(gray)\n",
    "\n",
    "    \n",
    "    if hand is not None:\n",
    "        thresh, hand_segment = hand\n",
    "        if hand_segment is not None:\n",
    "            cv2.drawContours(frame_copy, [hand_segment + (roi_right, roi_top)], -1, (255, 0, 0), 5)\n",
    "            fingers = count_fingers(thresh, hand_segment)\n",
    "            cv2.putText(frame_copy, str(fingers), (70, 45), cv2.FONT_HERSHEY_SIMPLEX, 1, (0, 0, 255), 2)\n",
    "            cv2.imshow(\"Threshold\", thresh)\n",
    "\n",
    "    cv2.rectangle(frame_copy, (roi_left, roi_top), (roi_right, roi_bottom), (0, 0, 255), 5)\n",
    "    num_frame += 1\n",
    "\n",
    "    cv2.imshow(\"Finger Count\", frame_copy)\n",
    "\n",
    "    k = cv2.waitKey(1) & 0xFF\n",
    "    if k == 27:\n",
    "        break\n",
    "\n",
    "cam.release()\n",
    "cv2.destroyAllWindows()"
   ]
  },
  {
   "cell_type": "code",
   "execution_count": 26,
   "id": "c3bedba7-9bb2-45ec-8119-80da46769048",
   "metadata": {},
   "outputs": [],
   "source": [
    "cam.release()\n",
    "cv2.destroyAllWindows()"
   ]
  },
  {
   "cell_type": "code",
   "execution_count": null,
   "id": "5c5cf30a-505f-4f57-aa21-147b061766d9",
   "metadata": {},
   "outputs": [],
   "source": []
  }
 ],
 "metadata": {
  "kernelspec": {
   "display_name": "Python 3 (ipykernel)",
   "language": "python",
   "name": "python3"
  },
  "language_info": {
   "codemirror_mode": {
    "name": "ipython",
    "version": 3
   },
   "file_extension": ".py",
   "mimetype": "text/x-python",
   "name": "python",
   "nbconvert_exporter": "python",
   "pygments_lexer": "ipython3",
   "version": "3.11.5"
  }
 },
 "nbformat": 4,
 "nbformat_minor": 5
}
